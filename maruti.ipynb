{
 "cells": [
  {
   "cell_type": "code",
   "execution_count": 1,
   "id": "695c455e",
   "metadata": {
    "_cell_guid": "b1076dfc-b9ad-4769-8c92-a6c4dae69d19",
    "_uuid": "8f2839f25d086af736a60e9eeb907d3b93b6e0e5",
    "execution": {
     "iopub.execute_input": "2023-03-01T10:35:32.807785Z",
     "iopub.status.busy": "2023-03-01T10:35:32.807347Z",
     "iopub.status.idle": "2023-03-01T10:35:34.200933Z",
     "shell.execute_reply": "2023-03-01T10:35:34.199610Z"
    },
    "papermill": {
     "duration": 1.410663,
     "end_time": "2023-03-01T10:35:34.204113",
     "exception": false,
     "start_time": "2023-03-01T10:35:32.793450",
     "status": "completed"
    },
    "tags": []
   },
   "outputs": [],
   "source": [
    "import numpy as np\n",
    "import pandas as pd \n",
    "import os\n",
    "from sklearn.model_selection import train_test_split\n",
    "from sklearn.tree import DecisionTreeRegressor\n",
    "from sklearn.preprocessing import OneHotEncoder\n",
    "from sklearn.metrics import mean_squared_error\n",
    "from sklearn.linear_model import LinearRegression"
   ]
  },
  {
   "cell_type": "code",
   "execution_count": 2,
   "id": "85423753",
   "metadata": {
    "execution": {
     "iopub.execute_input": "2023-03-01T10:35:34.221490Z",
     "iopub.status.busy": "2023-03-01T10:35:34.220147Z",
     "iopub.status.idle": "2023-03-01T10:35:57.657786Z",
     "shell.execute_reply": "2023-03-01T10:35:57.656624Z"
    },
    "papermill": {
     "duration": 23.449778,
     "end_time": "2023-03-01T10:35:57.660989",
     "exception": false,
     "start_time": "2023-03-01T10:35:34.211211",
     "status": "completed"
    },
    "tags": []
   },
   "outputs": [],
   "source": [
    "train_df = pd.read_csv(\"/kaggle/input/widsdatathon2023/train_data.csv\")"
   ]
  },
  {
   "cell_type": "code",
   "execution_count": 3,
   "id": "ca0f61ad",
   "metadata": {
    "execution": {
     "iopub.execute_input": "2023-03-01T10:35:57.677810Z",
     "iopub.status.busy": "2023-03-01T10:35:57.677339Z",
     "iopub.status.idle": "2023-03-01T10:35:57.923191Z",
     "shell.execute_reply": "2023-03-01T10:35:57.921707Z"
    },
    "papermill": {
     "duration": 0.258116,
     "end_time": "2023-03-01T10:35:57.926372",
     "exception": false,
     "start_time": "2023-03-01T10:35:57.668256",
     "status": "completed"
    },
    "tags": []
   },
   "outputs": [],
   "source": [
    "X = train_df.drop(columns=['contest-tmp2m-14d__tmp2m'])\n",
    "Y = train_df['contest-tmp2m-14d__tmp2m']"
   ]
  },
  {
   "cell_type": "code",
   "execution_count": 4,
   "id": "ee26a3f8",
   "metadata": {
    "execution": {
     "iopub.execute_input": "2023-03-01T10:35:57.942231Z",
     "iopub.status.busy": "2023-03-01T10:35:57.941764Z",
     "iopub.status.idle": "2023-03-01T10:35:57.947637Z",
     "shell.execute_reply": "2023-03-01T10:35:57.946139Z"
    },
    "papermill": {
     "duration": 0.017026,
     "end_time": "2023-03-01T10:35:57.950509",
     "exception": false,
     "start_time": "2023-03-01T10:35:57.933483",
     "status": "completed"
    },
    "tags": []
   },
   "outputs": [],
   "source": [
    "X_copy = X"
   ]
  },
  {
   "cell_type": "markdown",
   "id": "11fb2c39",
   "metadata": {
    "papermill": {
     "duration": 0.006458,
     "end_time": "2023-03-01T10:35:57.964099",
     "exception": false,
     "start_time": "2023-03-01T10:35:57.957641",
     "status": "completed"
    },
    "tags": []
   },
   "source": [
    "# **Preprocessing**"
   ]
  },
  {
   "cell_type": "code",
   "execution_count": 5,
   "id": "7a695dc5",
   "metadata": {
    "execution": {
     "iopub.execute_input": "2023-03-01T10:35:57.979686Z",
     "iopub.status.busy": "2023-03-01T10:35:57.979220Z",
     "iopub.status.idle": "2023-03-01T10:35:57.988612Z",
     "shell.execute_reply": "2023-03-01T10:35:57.987250Z"
    },
    "papermill": {
     "duration": 0.020234,
     "end_time": "2023-03-01T10:35:57.991101",
     "exception": false,
     "start_time": "2023-03-01T10:35:57.970867",
     "status": "completed"
    },
    "tags": []
   },
   "outputs": [],
   "source": [
    "def preprocess(X):\n",
    "    X.fillna(method='ffill',inplace=True)\n",
    "    X['startdate']=pd.to_datetime(X['startdate'])\n",
    "    X['startdate_year']=X['startdate'].dt.year\n",
    "    X['startdate_month']=X['startdate'].dt.month\n",
    "    X['startdate_day']=X['startdate'].dt.day\n",
    "    X.drop(columns=['startdate'],inplace=True)\n",
    "    encodeCategoricalData(X)\n",
    "    X = dropNonCorrelatedVariables(X)\n",
    "    return X\n",
    "def encodeCategoricalData(X_train):\n",
    "    onHotEncoder = OneHotEncoder()\n",
    "    transformed = onHotEncoder.fit_transform(X_train[['climateregions__climateregion']])\n",
    "    print(onHotEncoder.categories_)\n",
    "    X_train[onHotEncoder.categories_[0]] = transformed.toarray()\n",
    "    X_train.drop(columns=['climateregions__climateregion'],inplace=True)\n",
    "    "
   ]
  },
  {
   "cell_type": "code",
   "execution_count": 6,
   "id": "899a588a",
   "metadata": {
    "execution": {
     "iopub.execute_input": "2023-03-01T10:35:58.006456Z",
     "iopub.status.busy": "2023-03-01T10:35:58.006013Z",
     "iopub.status.idle": "2023-03-01T10:35:58.012405Z",
     "shell.execute_reply": "2023-03-01T10:35:58.011066Z"
    },
    "papermill": {
     "duration": 0.016969,
     "end_time": "2023-03-01T10:35:58.014809",
     "exception": false,
     "start_time": "2023-03-01T10:35:57.997840",
     "status": "completed"
    },
    "tags": []
   },
   "outputs": [],
   "source": [
    "def findCorrelatedVariables(X):\n",
    "    correlation_mat=X.corrwith(Y)\n",
    "    correlated_var=correlation_mat.loc[lambda y:abs(y) > 0.2]\n",
    "    return correlated_var\n",
    "def dropNonCorrelatedVariables(X):\n",
    "    return X[X.columns.intersection(correlated_var.keys())]"
   ]
  },
  {
   "cell_type": "code",
   "execution_count": 7,
   "id": "523e5d43",
   "metadata": {
    "execution": {
     "iopub.execute_input": "2023-03-01T10:35:58.030612Z",
     "iopub.status.busy": "2023-03-01T10:35:58.030186Z",
     "iopub.status.idle": "2023-03-01T10:35:59.609699Z",
     "shell.execute_reply": "2023-03-01T10:35:59.608487Z"
    },
    "papermill": {
     "duration": 1.591096,
     "end_time": "2023-03-01T10:35:59.612668",
     "exception": false,
     "start_time": "2023-03-01T10:35:58.021572",
     "status": "completed"
    },
    "tags": []
   },
   "outputs": [],
   "source": [
    "correlated_var = findCorrelatedVariables(X)"
   ]
  },
  {
   "cell_type": "code",
   "execution_count": 8,
   "id": "a2e2b8c0",
   "metadata": {
    "execution": {
     "iopub.execute_input": "2023-03-01T10:35:59.628796Z",
     "iopub.status.busy": "2023-03-01T10:35:59.627613Z",
     "iopub.status.idle": "2023-03-01T10:36:28.739106Z",
     "shell.execute_reply": "2023-03-01T10:36:28.737860Z"
    },
    "papermill": {
     "duration": 29.122662,
     "end_time": "2023-03-01T10:36:28.742090",
     "exception": false,
     "start_time": "2023-03-01T10:35:59.619428",
     "status": "completed"
    },
    "tags": []
   },
   "outputs": [
    {
     "name": "stdout",
     "output_type": "stream",
     "text": [
      "[array(['BSh', 'BSk', 'BWh', 'BWk', 'Cfa', 'Cfb', 'Csa', 'Csb', 'Dfa',\n",
      "       'Dfb', 'Dfc', 'Dsb', 'Dsc', 'Dwa', 'Dwb'], dtype=object)]\n"
     ]
    }
   ],
   "source": [
    "X = preprocess(X)"
   ]
  },
  {
   "cell_type": "code",
   "execution_count": 9,
   "id": "8cef6325",
   "metadata": {
    "execution": {
     "iopub.execute_input": "2023-03-01T10:36:28.758805Z",
     "iopub.status.busy": "2023-03-01T10:36:28.758399Z",
     "iopub.status.idle": "2023-03-01T10:36:29.174606Z",
     "shell.execute_reply": "2023-03-01T10:36:29.173416Z"
    },
    "papermill": {
     "duration": 0.428694,
     "end_time": "2023-03-01T10:36:29.177703",
     "exception": false,
     "start_time": "2023-03-01T10:36:28.749009",
     "status": "completed"
    },
    "tags": []
   },
   "outputs": [],
   "source": [
    "X_train,X_test,Y_train,Y_test = train_test_split(X,Y,test_size = 0.2,random_state = 0)"
   ]
  },
  {
   "cell_type": "code",
   "execution_count": 10,
   "id": "a7804f19",
   "metadata": {
    "execution": {
     "iopub.execute_input": "2023-03-01T10:36:29.193326Z",
     "iopub.status.busy": "2023-03-01T10:36:29.192921Z",
     "iopub.status.idle": "2023-03-01T10:36:29.289515Z",
     "shell.execute_reply": "2023-03-01T10:36:29.288165Z"
    },
    "papermill": {
     "duration": 0.107758,
     "end_time": "2023-03-01T10:36:29.292261",
     "exception": false,
     "start_time": "2023-03-01T10:36:29.184503",
     "status": "completed"
    },
    "tags": []
   },
   "outputs": [
    {
     "data": {
      "text/html": [
       "<div>\n",
       "<style scoped>\n",
       "    .dataframe tbody tr th:only-of-type {\n",
       "        vertical-align: middle;\n",
       "    }\n",
       "\n",
       "    .dataframe tbody tr th {\n",
       "        vertical-align: top;\n",
       "    }\n",
       "\n",
       "    .dataframe thead th {\n",
       "        text-align: right;\n",
       "    }\n",
       "</style>\n",
       "<table border=\"1\" class=\"dataframe\">\n",
       "  <thead>\n",
       "    <tr style=\"text-align: right;\">\n",
       "      <th></th>\n",
       "      <th>index</th>\n",
       "      <th>lat</th>\n",
       "      <th>contest-pevpr-sfc-gauss-14d__pevpr</th>\n",
       "      <th>nmme0-tmp2m-34w__cancm30</th>\n",
       "      <th>nmme0-tmp2m-34w__cancm40</th>\n",
       "      <th>nmme0-tmp2m-34w__ccsm30</th>\n",
       "      <th>nmme0-tmp2m-34w__ccsm40</th>\n",
       "      <th>nmme0-tmp2m-34w__cfsv20</th>\n",
       "      <th>nmme0-tmp2m-34w__gfdlflora0</th>\n",
       "      <th>nmme0-tmp2m-34w__gfdlflorb0</th>\n",
       "      <th>...</th>\n",
       "      <th>wind-hgt-10-2010-1</th>\n",
       "      <th>wind-hgt-100-2010-1</th>\n",
       "      <th>wind-hgt-100-2010-2</th>\n",
       "      <th>wind-hgt-100-2010-9</th>\n",
       "      <th>wind-vwnd-925-2010-1</th>\n",
       "      <th>wind-vwnd-925-2010-3</th>\n",
       "      <th>wind-vwnd-925-2010-9</th>\n",
       "      <th>wind-vwnd-925-2010-15</th>\n",
       "      <th>wind-vwnd-925-2010-16</th>\n",
       "      <th>wind-vwnd-925-2010-18</th>\n",
       "    </tr>\n",
       "  </thead>\n",
       "  <tbody>\n",
       "    <tr>\n",
       "      <th>45755</th>\n",
       "      <td>45755</td>\n",
       "      <td>0.272727</td>\n",
       "      <td>253.29</td>\n",
       "      <td>14.23</td>\n",
       "      <td>16.91</td>\n",
       "      <td>12.48</td>\n",
       "      <td>15.15</td>\n",
       "      <td>12.98</td>\n",
       "      <td>13.67</td>\n",
       "      <td>13.65</td>\n",
       "      <td>...</td>\n",
       "      <td>62981.47</td>\n",
       "      <td>6352.16</td>\n",
       "      <td>-17258.04</td>\n",
       "      <td>-1332.26</td>\n",
       "      <td>59.38</td>\n",
       "      <td>-33.91</td>\n",
       "      <td>-50.17</td>\n",
       "      <td>-72.53</td>\n",
       "      <td>0.45</td>\n",
       "      <td>12.98</td>\n",
       "    </tr>\n",
       "    <tr>\n",
       "      <th>202801</th>\n",
       "      <td>202801</td>\n",
       "      <td>0.636364</td>\n",
       "      <td>429.38</td>\n",
       "      <td>19.76</td>\n",
       "      <td>20.81</td>\n",
       "      <td>20.66</td>\n",
       "      <td>20.79</td>\n",
       "      <td>21.56</td>\n",
       "      <td>24.33</td>\n",
       "      <td>24.65</td>\n",
       "      <td>...</td>\n",
       "      <td>-119033.16</td>\n",
       "      <td>-43021.70</td>\n",
       "      <td>4753.25</td>\n",
       "      <td>1228.84</td>\n",
       "      <td>-143.97</td>\n",
       "      <td>14.05</td>\n",
       "      <td>-32.37</td>\n",
       "      <td>19.49</td>\n",
       "      <td>-14.69</td>\n",
       "      <td>20.40</td>\n",
       "    </tr>\n",
       "    <tr>\n",
       "      <th>346503</th>\n",
       "      <td>346503</td>\n",
       "      <td>0.954545</td>\n",
       "      <td>260.23</td>\n",
       "      <td>19.55</td>\n",
       "      <td>21.58</td>\n",
       "      <td>16.25</td>\n",
       "      <td>19.76</td>\n",
       "      <td>18.59</td>\n",
       "      <td>19.41</td>\n",
       "      <td>19.30</td>\n",
       "      <td>...</td>\n",
       "      <td>-50719.55</td>\n",
       "      <td>-21098.15</td>\n",
       "      <td>-5693.75</td>\n",
       "      <td>-1610.90</td>\n",
       "      <td>-69.74</td>\n",
       "      <td>102.12</td>\n",
       "      <td>35.23</td>\n",
       "      <td>-3.72</td>\n",
       "      <td>63.91</td>\n",
       "      <td>-40.83</td>\n",
       "    </tr>\n",
       "    <tr>\n",
       "      <th>147082</th>\n",
       "      <td>147082</td>\n",
       "      <td>0.500000</td>\n",
       "      <td>108.48</td>\n",
       "      <td>-0.86</td>\n",
       "      <td>1.28</td>\n",
       "      <td>0.03</td>\n",
       "      <td>1.50</td>\n",
       "      <td>-0.43</td>\n",
       "      <td>2.67</td>\n",
       "      <td>2.44</td>\n",
       "      <td>...</td>\n",
       "      <td>108732.74</td>\n",
       "      <td>40461.19</td>\n",
       "      <td>-1273.31</td>\n",
       "      <td>2069.91</td>\n",
       "      <td>146.94</td>\n",
       "      <td>39.91</td>\n",
       "      <td>28.49</td>\n",
       "      <td>43.41</td>\n",
       "      <td>-4.69</td>\n",
       "      <td>24.75</td>\n",
       "    </tr>\n",
       "    <tr>\n",
       "      <th>238542</th>\n",
       "      <td>238542</td>\n",
       "      <td>0.727273</td>\n",
       "      <td>345.13</td>\n",
       "      <td>5.57</td>\n",
       "      <td>4.62</td>\n",
       "      <td>5.09</td>\n",
       "      <td>4.43</td>\n",
       "      <td>6.51</td>\n",
       "      <td>2.63</td>\n",
       "      <td>2.49</td>\n",
       "      <td>...</td>\n",
       "      <td>-38156.60</td>\n",
       "      <td>-5023.20</td>\n",
       "      <td>6533.65</td>\n",
       "      <td>4.94</td>\n",
       "      <td>-49.67</td>\n",
       "      <td>-6.36</td>\n",
       "      <td>16.13</td>\n",
       "      <td>6.78</td>\n",
       "      <td>-17.67</td>\n",
       "      <td>-38.13</td>\n",
       "    </tr>\n",
       "    <tr>\n",
       "      <th>...</th>\n",
       "      <td>...</td>\n",
       "      <td>...</td>\n",
       "      <td>...</td>\n",
       "      <td>...</td>\n",
       "      <td>...</td>\n",
       "      <td>...</td>\n",
       "      <td>...</td>\n",
       "      <td>...</td>\n",
       "      <td>...</td>\n",
       "      <td>...</td>\n",
       "      <td>...</td>\n",
       "      <td>...</td>\n",
       "      <td>...</td>\n",
       "      <td>...</td>\n",
       "      <td>...</td>\n",
       "      <td>...</td>\n",
       "      <td>...</td>\n",
       "      <td>...</td>\n",
       "      <td>...</td>\n",
       "      <td>...</td>\n",
       "      <td>...</td>\n",
       "    </tr>\n",
       "    <tr>\n",
       "      <th>359783</th>\n",
       "      <td>359783</td>\n",
       "      <td>1.000000</td>\n",
       "      <td>6.72</td>\n",
       "      <td>-4.69</td>\n",
       "      <td>-2.32</td>\n",
       "      <td>-6.22</td>\n",
       "      <td>-3.27</td>\n",
       "      <td>-6.28</td>\n",
       "      <td>-2.91</td>\n",
       "      <td>-3.80</td>\n",
       "      <td>...</td>\n",
       "      <td>113960.81</td>\n",
       "      <td>39375.83</td>\n",
       "      <td>1141.43</td>\n",
       "      <td>-992.25</td>\n",
       "      <td>176.24</td>\n",
       "      <td>-32.23</td>\n",
       "      <td>82.02</td>\n",
       "      <td>-5.34</td>\n",
       "      <td>-5.53</td>\n",
       "      <td>65.24</td>\n",
       "    </tr>\n",
       "    <tr>\n",
       "      <th>358083</th>\n",
       "      <td>358083</td>\n",
       "      <td>1.000000</td>\n",
       "      <td>168.94</td>\n",
       "      <td>6.58</td>\n",
       "      <td>6.59</td>\n",
       "      <td>4.00</td>\n",
       "      <td>6.45</td>\n",
       "      <td>5.89</td>\n",
       "      <td>6.95</td>\n",
       "      <td>6.48</td>\n",
       "      <td>...</td>\n",
       "      <td>-59694.83</td>\n",
       "      <td>-15553.79</td>\n",
       "      <td>8724.15</td>\n",
       "      <td>-1785.63</td>\n",
       "      <td>-105.81</td>\n",
       "      <td>66.93</td>\n",
       "      <td>17.40</td>\n",
       "      <td>-23.43</td>\n",
       "      <td>-3.65</td>\n",
       "      <td>37.80</td>\n",
       "    </tr>\n",
       "    <tr>\n",
       "      <th>152315</th>\n",
       "      <td>152315</td>\n",
       "      <td>0.545455</td>\n",
       "      <td>483.62</td>\n",
       "      <td>14.85</td>\n",
       "      <td>15.43</td>\n",
       "      <td>15.91</td>\n",
       "      <td>16.07</td>\n",
       "      <td>15.67</td>\n",
       "      <td>15.72</td>\n",
       "      <td>15.87</td>\n",
       "      <td>...</td>\n",
       "      <td>-78178.14</td>\n",
       "      <td>-22921.26</td>\n",
       "      <td>9494.04</td>\n",
       "      <td>592.73</td>\n",
       "      <td>-95.01</td>\n",
       "      <td>39.58</td>\n",
       "      <td>3.47</td>\n",
       "      <td>-11.19</td>\n",
       "      <td>-25.75</td>\n",
       "      <td>9.48</td>\n",
       "    </tr>\n",
       "    <tr>\n",
       "      <th>117952</th>\n",
       "      <td>117952</td>\n",
       "      <td>0.454545</td>\n",
       "      <td>537.24</td>\n",
       "      <td>10.93</td>\n",
       "      <td>10.79</td>\n",
       "      <td>8.70</td>\n",
       "      <td>10.56</td>\n",
       "      <td>10.61</td>\n",
       "      <td>7.46</td>\n",
       "      <td>7.86</td>\n",
       "      <td>...</td>\n",
       "      <td>-71718.47</td>\n",
       "      <td>-19554.57</td>\n",
       "      <td>8995.46</td>\n",
       "      <td>-414.84</td>\n",
       "      <td>-70.29</td>\n",
       "      <td>83.08</td>\n",
       "      <td>22.51</td>\n",
       "      <td>-6.27</td>\n",
       "      <td>-18.93</td>\n",
       "      <td>16.90</td>\n",
       "    </tr>\n",
       "    <tr>\n",
       "      <th>305711</th>\n",
       "      <td>305711</td>\n",
       "      <td>0.863636</td>\n",
       "      <td>61.12</td>\n",
       "      <td>-7.97</td>\n",
       "      <td>-7.81</td>\n",
       "      <td>-6.86</td>\n",
       "      <td>-7.30</td>\n",
       "      <td>-4.74</td>\n",
       "      <td>-6.23</td>\n",
       "      <td>-7.07</td>\n",
       "      <td>...</td>\n",
       "      <td>108611.96</td>\n",
       "      <td>40697.25</td>\n",
       "      <td>-2099.28</td>\n",
       "      <td>2344.34</td>\n",
       "      <td>148.63</td>\n",
       "      <td>56.43</td>\n",
       "      <td>10.51</td>\n",
       "      <td>26.04</td>\n",
       "      <td>-8.68</td>\n",
       "      <td>24.51</td>\n",
       "    </tr>\n",
       "  </tbody>\n",
       "</table>\n",
       "<p>300587 rows × 115 columns</p>\n",
       "</div>"
      ],
      "text/plain": [
       "         index       lat  contest-pevpr-sfc-gauss-14d__pevpr  \\\n",
       "45755    45755  0.272727                              253.29   \n",
       "202801  202801  0.636364                              429.38   \n",
       "346503  346503  0.954545                              260.23   \n",
       "147082  147082  0.500000                              108.48   \n",
       "238542  238542  0.727273                              345.13   \n",
       "...        ...       ...                                 ...   \n",
       "359783  359783  1.000000                                6.72   \n",
       "358083  358083  1.000000                              168.94   \n",
       "152315  152315  0.545455                              483.62   \n",
       "117952  117952  0.454545                              537.24   \n",
       "305711  305711  0.863636                               61.12   \n",
       "\n",
       "        nmme0-tmp2m-34w__cancm30  nmme0-tmp2m-34w__cancm40  \\\n",
       "45755                      14.23                     16.91   \n",
       "202801                     19.76                     20.81   \n",
       "346503                     19.55                     21.58   \n",
       "147082                     -0.86                      1.28   \n",
       "238542                      5.57                      4.62   \n",
       "...                          ...                       ...   \n",
       "359783                     -4.69                     -2.32   \n",
       "358083                      6.58                      6.59   \n",
       "152315                     14.85                     15.43   \n",
       "117952                     10.93                     10.79   \n",
       "305711                     -7.97                     -7.81   \n",
       "\n",
       "        nmme0-tmp2m-34w__ccsm30  nmme0-tmp2m-34w__ccsm40  \\\n",
       "45755                     12.48                    15.15   \n",
       "202801                    20.66                    20.79   \n",
       "346503                    16.25                    19.76   \n",
       "147082                     0.03                     1.50   \n",
       "238542                     5.09                     4.43   \n",
       "...                         ...                      ...   \n",
       "359783                    -6.22                    -3.27   \n",
       "358083                     4.00                     6.45   \n",
       "152315                    15.91                    16.07   \n",
       "117952                     8.70                    10.56   \n",
       "305711                    -6.86                    -7.30   \n",
       "\n",
       "        nmme0-tmp2m-34w__cfsv20  nmme0-tmp2m-34w__gfdlflora0  \\\n",
       "45755                     12.98                        13.67   \n",
       "202801                    21.56                        24.33   \n",
       "346503                    18.59                        19.41   \n",
       "147082                    -0.43                         2.67   \n",
       "238542                     6.51                         2.63   \n",
       "...                         ...                          ...   \n",
       "359783                    -6.28                        -2.91   \n",
       "358083                     5.89                         6.95   \n",
       "152315                    15.67                        15.72   \n",
       "117952                    10.61                         7.46   \n",
       "305711                    -4.74                        -6.23   \n",
       "\n",
       "        nmme0-tmp2m-34w__gfdlflorb0  ...  wind-hgt-10-2010-1  \\\n",
       "45755                         13.65  ...            62981.47   \n",
       "202801                        24.65  ...          -119033.16   \n",
       "346503                        19.30  ...           -50719.55   \n",
       "147082                         2.44  ...           108732.74   \n",
       "238542                         2.49  ...           -38156.60   \n",
       "...                             ...  ...                 ...   \n",
       "359783                        -3.80  ...           113960.81   \n",
       "358083                         6.48  ...           -59694.83   \n",
       "152315                        15.87  ...           -78178.14   \n",
       "117952                         7.86  ...           -71718.47   \n",
       "305711                        -7.07  ...           108611.96   \n",
       "\n",
       "        wind-hgt-100-2010-1  wind-hgt-100-2010-2  wind-hgt-100-2010-9  \\\n",
       "45755               6352.16            -17258.04             -1332.26   \n",
       "202801            -43021.70              4753.25              1228.84   \n",
       "346503            -21098.15             -5693.75             -1610.90   \n",
       "147082             40461.19             -1273.31              2069.91   \n",
       "238542             -5023.20              6533.65                 4.94   \n",
       "...                     ...                  ...                  ...   \n",
       "359783             39375.83              1141.43              -992.25   \n",
       "358083            -15553.79              8724.15             -1785.63   \n",
       "152315            -22921.26              9494.04               592.73   \n",
       "117952            -19554.57              8995.46              -414.84   \n",
       "305711             40697.25             -2099.28              2344.34   \n",
       "\n",
       "        wind-vwnd-925-2010-1  wind-vwnd-925-2010-3  wind-vwnd-925-2010-9  \\\n",
       "45755                  59.38                -33.91                -50.17   \n",
       "202801               -143.97                 14.05                -32.37   \n",
       "346503                -69.74                102.12                 35.23   \n",
       "147082                146.94                 39.91                 28.49   \n",
       "238542                -49.67                 -6.36                 16.13   \n",
       "...                      ...                   ...                   ...   \n",
       "359783                176.24                -32.23                 82.02   \n",
       "358083               -105.81                 66.93                 17.40   \n",
       "152315                -95.01                 39.58                  3.47   \n",
       "117952                -70.29                 83.08                 22.51   \n",
       "305711                148.63                 56.43                 10.51   \n",
       "\n",
       "        wind-vwnd-925-2010-15  wind-vwnd-925-2010-16  wind-vwnd-925-2010-18  \n",
       "45755                  -72.53                   0.45                  12.98  \n",
       "202801                  19.49                 -14.69                  20.40  \n",
       "346503                  -3.72                  63.91                 -40.83  \n",
       "147082                  43.41                  -4.69                  24.75  \n",
       "238542                   6.78                 -17.67                 -38.13  \n",
       "...                       ...                    ...                    ...  \n",
       "359783                  -5.34                  -5.53                  65.24  \n",
       "358083                 -23.43                  -3.65                  37.80  \n",
       "152315                 -11.19                 -25.75                   9.48  \n",
       "117952                  -6.27                 -18.93                  16.90  \n",
       "305711                  26.04                  -8.68                  24.51  \n",
       "\n",
       "[300587 rows x 115 columns]"
      ]
     },
     "execution_count": 10,
     "metadata": {},
     "output_type": "execute_result"
    }
   ],
   "source": [
    "X_train"
   ]
  },
  {
   "cell_type": "code",
   "execution_count": 11,
   "id": "e273fb72",
   "metadata": {
    "execution": {
     "iopub.execute_input": "2023-03-01T10:36:29.309065Z",
     "iopub.status.busy": "2023-03-01T10:36:29.308599Z",
     "iopub.status.idle": "2023-03-01T10:36:29.423444Z",
     "shell.execute_reply": "2023-03-01T10:36:29.422299Z"
    },
    "papermill": {
     "duration": 0.126727,
     "end_time": "2023-03-01T10:36:29.426440",
     "exception": false,
     "start_time": "2023-03-01T10:36:29.299713",
     "status": "completed"
    },
    "tags": []
   },
   "outputs": [],
   "source": [
    "import xgboost"
   ]
  },
  {
   "cell_type": "code",
   "execution_count": 12,
   "id": "b313188a",
   "metadata": {
    "execution": {
     "iopub.execute_input": "2023-03-01T10:36:29.443975Z",
     "iopub.status.busy": "2023-03-01T10:36:29.442860Z",
     "iopub.status.idle": "2023-03-01T10:36:30.013532Z",
     "shell.execute_reply": "2023-03-01T10:36:30.012421Z"
    },
    "papermill": {
     "duration": 0.582544,
     "end_time": "2023-03-01T10:36:30.016490",
     "exception": false,
     "start_time": "2023-03-01T10:36:29.433946",
     "status": "completed"
    },
    "tags": []
   },
   "outputs": [],
   "source": [
    "import optuna\n",
    "def objective(trial):\n",
    "    param = {\n",
    "        'max_depth': trial.suggest_int('max_depth', 1, 10),\n",
    "        'learning_rate': trial.suggest_float('learning_rate', 0.01, 1.0),\n",
    "        'n_estimators': trial.suggest_int('n_estimators', 50, 1000),\n",
    "        'min_child_weight': trial.suggest_int('min_child_weight', 1, 10),\n",
    "        'gamma': trial.suggest_float('gamma', 0.01, 1.0),\n",
    "        'subsample': trial.suggest_float('subsample', 0.01, 1.0),\n",
    "        'colsample_bytree': trial.suggest_float('colsample_bytree', 0.01, 1.0),\n",
    "        'reg_alpha': trial.suggest_float('reg_alpha', 0.01, 1.0),\n",
    "        'reg_lambda': trial.suggest_float('reg_lambda', 0.01, 1.0),\n",
    "        'random_state': trial.suggest_int('random_state', 1, 1000)\n",
    "    }\n",
    "    model = xgboost.XGBRegressor(**param)\n",
    "    model.fit(X_train, Y_train)\n",
    "    y_pred = model.predict(X_test)\n",
    "    return mean_squared_error(Y_test, y_pred)"
   ]
  },
  {
   "cell_type": "code",
   "execution_count": 13,
   "id": "a0db7a70",
   "metadata": {
    "execution": {
     "iopub.execute_input": "2023-03-01T10:36:30.034413Z",
     "iopub.status.busy": "2023-03-01T10:36:30.033116Z",
     "iopub.status.idle": "2023-03-01T14:44:40.794368Z",
     "shell.execute_reply": "2023-03-01T14:44:40.792966Z"
    },
    "papermill": {
     "duration": 14890.772781,
     "end_time": "2023-03-01T14:44:40.796939",
     "exception": false,
     "start_time": "2023-03-01T10:36:30.024158",
     "status": "completed"
    },
    "tags": []
   },
   "outputs": [
    {
     "name": "stderr",
     "output_type": "stream",
     "text": [
      "\u001b[32m[I 2023-03-01 10:36:30,036]\u001b[0m A new study created in memory with name: regression\u001b[0m\n",
      "\u001b[32m[I 2023-03-01 11:01:59,842]\u001b[0m Trial 0 finished with value: 0.10034592920507564 and parameters: {'max_depth': 10, 'learning_rate': 0.1735019281400992, 'n_estimators': 744, 'min_child_weight': 8, 'gamma': 0.3231742265352549, 'subsample': 0.7014752199974251, 'colsample_bytree': 0.8128922271848302, 'reg_alpha': 0.19209567518989204, 'reg_lambda': 0.39480466049181456, 'random_state': 881}. Best is trial 0 with value: 0.10034592920507564.\u001b[0m\n",
      "\u001b[32m[I 2023-03-01 11:03:39,768]\u001b[0m Trial 1 finished with value: 0.8995162638832477 and parameters: {'max_depth': 2, 'learning_rate': 0.6679852652533286, 'n_estimators': 415, 'min_child_weight': 5, 'gamma': 0.8334752643972975, 'subsample': 0.5705425592678668, 'colsample_bytree': 0.3333789325422354, 'reg_alpha': 0.8393082718099192, 'reg_lambda': 0.5422831739139413, 'random_state': 802}. Best is trial 0 with value: 0.10034592920507564.\u001b[0m\n",
      "\u001b[32m[I 2023-03-01 11:04:19,748]\u001b[0m Trial 2 finished with value: 3.974276254424531 and parameters: {'max_depth': 1, 'learning_rate': 0.10960247546079738, 'n_estimators': 153, 'min_child_weight': 5, 'gamma': 0.38264519996823027, 'subsample': 0.4205645391190372, 'colsample_bytree': 0.8004891711782419, 'reg_alpha': 0.4187294173734403, 'reg_lambda': 0.8104492425643786, 'random_state': 377}. Best is trial 0 with value: 0.10034592920507564.\u001b[0m\n",
      "\u001b[32m[I 2023-03-01 11:12:13,370]\u001b[0m Trial 3 finished with value: 1702306108.6833684 and parameters: {'max_depth': 6, 'learning_rate': 0.8229537838490084, 'n_estimators': 620, 'min_child_weight': 5, 'gamma': 0.22835313553247363, 'subsample': 0.1151738331727328, 'colsample_bytree': 0.7769721702776715, 'reg_alpha': 0.7169779642387899, 'reg_lambda': 0.5171370579969596, 'random_state': 927}. Best is trial 0 with value: 0.10034592920507564.\u001b[0m\n",
      "\u001b[32m[I 2023-03-01 11:25:47,124]\u001b[0m Trial 4 finished with value: 1.0840822727584298 and parameters: {'max_depth': 8, 'learning_rate': 0.8690144048241631, 'n_estimators': 475, 'min_child_weight': 1, 'gamma': 0.28065909350371787, 'subsample': 0.436315524259239, 'colsample_bytree': 0.8917355698307966, 'reg_alpha': 0.8976430220152543, 'reg_lambda': 0.8995671928801614, 'random_state': 516}. Best is trial 0 with value: 0.10034592920507564.\u001b[0m\n",
      "\u001b[32m[I 2023-03-01 11:28:01,008]\u001b[0m Trial 5 finished with value: 0.9480838597706472 and parameters: {'max_depth': 3, 'learning_rate': 0.9471433290467347, 'n_estimators': 236, 'min_child_weight': 3, 'gamma': 0.6361344696274844, 'subsample': 0.3203963463230317, 'colsample_bytree': 0.811672687961242, 'reg_alpha': 0.90319610599625, 'reg_lambda': 0.6512105209757774, 'random_state': 827}. Best is trial 0 with value: 0.10034592920507564.\u001b[0m\n",
      "\u001b[32m[I 2023-03-01 11:29:39,536]\u001b[0m Trial 6 finished with value: 0.6335448078206032 and parameters: {'max_depth': 8, 'learning_rate': 0.5849262689783842, 'n_estimators': 57, 'min_child_weight': 10, 'gamma': 0.18301355864155247, 'subsample': 0.7518344812858273, 'colsample_bytree': 0.8055640888749941, 'reg_alpha': 0.35934341108199674, 'reg_lambda': 0.022001442138102706, 'random_state': 197}. Best is trial 0 with value: 0.10034592920507564.\u001b[0m\n",
      "\u001b[32m[I 2023-03-01 11:32:45,485]\u001b[0m Trial 7 finished with value: 1.4344162427234943 and parameters: {'max_depth': 1, 'learning_rate': 0.9478759751400855, 'n_estimators': 785, 'min_child_weight': 6, 'gamma': 0.2286803493973897, 'subsample': 0.7381945937967322, 'colsample_bytree': 0.7199508448439439, 'reg_alpha': 0.9239113653092614, 'reg_lambda': 0.7847262417844874, 'random_state': 447}. Best is trial 0 with value: 0.10034592920507564.\u001b[0m\n",
      "\u001b[32m[I 2023-03-01 11:36:43,505]\u001b[0m Trial 8 finished with value: 1.069640888444546 and parameters: {'max_depth': 3, 'learning_rate': 0.6393421413427977, 'n_estimators': 562, 'min_child_weight': 1, 'gamma': 0.1617130713600648, 'subsample': 0.06398332297187731, 'colsample_bytree': 0.8165942642196814, 'reg_alpha': 0.8539926065873804, 'reg_lambda': 0.792216430343577, 'random_state': 208}. Best is trial 0 with value: 0.10034592920507564.\u001b[0m\n",
      "\u001b[32m[I 2023-03-01 11:39:24,783]\u001b[0m Trial 9 finished with value: 345223375199003.3 and parameters: {'max_depth': 4, 'learning_rate': 0.9058155938578546, 'n_estimators': 900, 'min_child_weight': 3, 'gamma': 0.9927130175444209, 'subsample': 0.103891524565682, 'colsample_bytree': 0.09288475342522613, 'reg_alpha': 0.9894162496986241, 'reg_lambda': 0.33274200618689365, 'random_state': 713}. Best is trial 0 with value: 0.10034592920507564.\u001b[0m\n",
      "\u001b[32m[I 2023-03-01 12:02:16,671]\u001b[0m Trial 10 finished with value: 0.11208992621800469 and parameters: {'max_depth': 10, 'learning_rate': 0.23447705630213317, 'n_estimators': 956, 'min_child_weight': 10, 'gamma': 0.04753462623452881, 'subsample': 0.9872512850124961, 'colsample_bytree': 0.5545762353530038, 'reg_alpha': 0.07329586524550091, 'reg_lambda': 0.3210901216570932, 'random_state': 644}. Best is trial 0 with value: 0.10034592920507564.\u001b[0m\n",
      "\u001b[32m[I 2023-03-01 12:27:39,169]\u001b[0m Trial 11 finished with value: 0.10301515465830349 and parameters: {'max_depth': 10, 'learning_rate': 0.21633294666462916, 'n_estimators': 999, 'min_child_weight': 10, 'gamma': 0.018659152441328992, 'subsample': 0.9958548160874364, 'colsample_bytree': 0.5932868220741636, 'reg_alpha': 0.06700776010904706, 'reg_lambda': 0.3282740302547007, 'random_state': 624}. Best is trial 0 with value: 0.10034592920507564.\u001b[0m\n",
      "\u001b[32m[I 2023-03-01 12:56:21,282]\u001b[0m Trial 12 finished with value: 0.14959560435085398 and parameters: {'max_depth': 10, 'learning_rate': 0.3087468286028807, 'n_estimators': 777, 'min_child_weight': 8, 'gamma': 0.0335136140019307, 'subsample': 0.9958063165983286, 'colsample_bytree': 0.9717406420720975, 'reg_alpha': 0.017931582748197644, 'reg_lambda': 0.35454007837074414, 'random_state': 589}. Best is trial 0 with value: 0.10034592920507564.\u001b[0m\n",
      "\u001b[32m[I 2023-03-01 13:13:23,009]\u001b[0m Trial 13 finished with value: 0.21563440377251997 and parameters: {'max_depth': 8, 'learning_rate': 0.025527407221829834, 'n_estimators': 782, 'min_child_weight': 8, 'gamma': 0.46220386746647646, 'subsample': 0.8445061212112113, 'colsample_bytree': 0.5937301291349497, 'reg_alpha': 0.19708461040122194, 'reg_lambda': 0.2516725570892444, 'random_state': 973}. Best is trial 0 with value: 0.10034592920507564.\u001b[0m\n",
      "\u001b[32m[I 2023-03-01 13:24:56,405]\u001b[0m Trial 14 finished with value: 0.1847955036086813 and parameters: {'max_depth': 6, 'learning_rate': 0.35537090282471057, 'n_estimators': 974, 'min_child_weight': 9, 'gamma': 0.3794558328468196, 'subsample': 0.6342542828620632, 'colsample_bytree': 0.4185263693073672, 'reg_alpha': 0.1745018126300662, 'reg_lambda': 0.15734695757134448, 'random_state': 16}. Best is trial 0 with value: 0.10034592920507564.\u001b[0m\n",
      "\u001b[32m[I 2023-03-01 13:43:04,989]\u001b[0m Trial 15 finished with value: 0.19611152681914104 and parameters: {'max_depth': 9, 'learning_rate': 0.40328601299029454, 'n_estimators': 691, 'min_child_weight': 7, 'gamma': 0.028640571332246623, 'subsample': 0.8679892119660075, 'colsample_bytree': 0.6768669617323579, 'reg_alpha': 0.24760199367729263, 'reg_lambda': 0.45456442298775274, 'random_state': 797}. Best is trial 0 with value: 0.10034592920507564.\u001b[0m\n",
      "\u001b[32m[I 2023-03-01 14:05:48,995]\u001b[0m Trial 16 finished with value: 0.13186128802899583 and parameters: {'max_depth': 7, 'learning_rate': 0.1698333054344523, 'n_estimators': 844, 'min_child_weight': 9, 'gamma': 0.6132219007247609, 'subsample': 0.679518501233345, 'colsample_bytree': 0.9723419070770285, 'reg_alpha': 0.09787745382489971, 'reg_lambda': 0.4407835726203288, 'random_state': 660}. Best is trial 0 with value: 0.10034592920507564.\u001b[0m\n",
      "\u001b[32m[I 2023-03-01 14:17:58,098]\u001b[0m Trial 17 finished with value: 0.18635690939269817 and parameters: {'max_depth': 10, 'learning_rate': 0.02392592012700459, 'n_estimators': 360, 'min_child_weight': 7, 'gamma': 0.34285591942035076, 'subsample': 0.8523993408472115, 'colsample_bytree': 0.6603316797422647, 'reg_alpha': 0.28611794471641516, 'reg_lambda': 0.20685714973053773, 'random_state': 850}. Best is trial 0 with value: 0.10034592920507564.\u001b[0m\n",
      "\u001b[32m[I 2023-03-01 14:31:48,444]\u001b[0m Trial 18 finished with value: 0.2435749975132477 and parameters: {'max_depth': 9, 'learning_rate': 0.44627700749718874, 'n_estimators': 651, 'min_child_weight': 9, 'gamma': 0.12677831123454952, 'subsample': 0.556748900682927, 'colsample_bytree': 0.4745967697769937, 'reg_alpha': 0.5320084821938954, 'reg_lambda': 0.6259346954568279, 'random_state': 329}. Best is trial 0 with value: 0.10034592920507564.\u001b[0m\n",
      "\u001b[32m[I 2023-03-01 14:44:40,780]\u001b[0m Trial 19 finished with value: 0.19555575658350122 and parameters: {'max_depth': 5, 'learning_rate': 0.22523625374683048, 'n_estimators': 1000, 'min_child_weight': 10, 'gamma': 0.1232500054088512, 'subsample': 0.7679640442227116, 'colsample_bytree': 0.6224189654492981, 'reg_alpha': 0.014165600072612784, 'reg_lambda': 0.3942190335886693, 'random_state': 545}. Best is trial 0 with value: 0.10034592920507564.\u001b[0m\n"
     ]
    }
   ],
   "source": [
    "study = optuna.create_study(direction='minimize', study_name='regression')\n",
    "study.optimize(objective, n_trials=20)"
   ]
  },
  {
   "cell_type": "code",
   "execution_count": 14,
   "id": "23f0310c",
   "metadata": {
    "execution": {
     "iopub.execute_input": "2023-03-01T14:44:40.816941Z",
     "iopub.status.busy": "2023-03-01T14:44:40.816254Z",
     "iopub.status.idle": "2023-03-01T15:05:09.254061Z",
     "shell.execute_reply": "2023-03-01T15:05:09.252949Z"
    },
    "papermill": {
     "duration": 1228.451451,
     "end_time": "2023-03-01T15:05:09.257305",
     "exception": false,
     "start_time": "2023-03-01T14:44:40.805854",
     "status": "completed"
    },
    "tags": []
   },
   "outputs": [],
   "source": [
    "import xgboost\n",
    "model = xgboost.XGBRegressor(max_depth=10, learning_rate=0.31980297530663365, n_estimators= 613, min_child_weight=6, gamma=0.9229319872511204, subsample= 0.8744744710561068, colsample_bytree= 0.7706469704837123, reg_alpha= 0.8610933743587899, reg_lambda=0.837931322426224,random_state=915)\n",
    "model.fit(X_train, Y_train)\n",
    "y_pred = model.predict(X_test)"
   ]
  },
  {
   "cell_type": "code",
   "execution_count": 15,
   "id": "b58eb57b",
   "metadata": {
    "execution": {
     "iopub.execute_input": "2023-03-01T15:05:09.280230Z",
     "iopub.status.busy": "2023-03-01T15:05:09.278980Z",
     "iopub.status.idle": "2023-03-01T15:05:09.288184Z",
     "shell.execute_reply": "2023-03-01T15:05:09.287221Z"
    },
    "papermill": {
     "duration": 0.022642,
     "end_time": "2023-03-01T15:05:09.291372",
     "exception": false,
     "start_time": "2023-03-01T15:05:09.268730",
     "status": "completed"
    },
    "tags": []
   },
   "outputs": [
    {
     "data": {
      "text/plain": [
       "array([16.19919  , 16.89909  , 28.023489 , ..., -4.0831923, 12.316688 ,\n",
       "        4.9463735], dtype=float32)"
      ]
     },
     "execution_count": 15,
     "metadata": {},
     "output_type": "execute_result"
    }
   ],
   "source": [
    "y_pred"
   ]
  },
  {
   "cell_type": "code",
   "execution_count": 16,
   "id": "1396190b",
   "metadata": {
    "execution": {
     "iopub.execute_input": "2023-03-01T15:05:09.312921Z",
     "iopub.status.busy": "2023-03-01T15:05:09.311802Z",
     "iopub.status.idle": "2023-03-01T15:05:10.374559Z",
     "shell.execute_reply": "2023-03-01T15:05:10.373506Z"
    },
    "papermill": {
     "duration": 1.076846,
     "end_time": "2023-03-01T15:05:10.377680",
     "exception": false,
     "start_time": "2023-03-01T15:05:09.300834",
     "status": "completed"
    },
    "tags": []
   },
   "outputs": [
    {
     "data": {
      "text/plain": [
       "0.9981787700399272"
      ]
     },
     "execution_count": 16,
     "metadata": {},
     "output_type": "execute_result"
    }
   ],
   "source": [
    "model.score(X_test,Y_test)"
   ]
  },
  {
   "cell_type": "code",
   "execution_count": 17,
   "id": "70a1d9f5",
   "metadata": {
    "execution": {
     "iopub.execute_input": "2023-03-01T15:05:10.400406Z",
     "iopub.status.busy": "2023-03-01T15:05:10.399439Z",
     "iopub.status.idle": "2023-03-01T15:05:10.405678Z",
     "shell.execute_reply": "2023-03-01T15:05:10.404753Z"
    },
    "papermill": {
     "duration": 0.019335,
     "end_time": "2023-03-01T15:05:10.408187",
     "exception": false,
     "start_time": "2023-03-01T15:05:10.388852",
     "status": "completed"
    },
    "tags": []
   },
   "outputs": [],
   "source": [
    "from sklearn.metrics import mean_squared_error\n",
    "rms = mean_squared_error(Y_test,y_pred,squared=False)"
   ]
  },
  {
   "cell_type": "code",
   "execution_count": 18,
   "id": "a56c7758",
   "metadata": {
    "execution": {
     "iopub.execute_input": "2023-03-01T15:05:10.429015Z",
     "iopub.status.busy": "2023-03-01T15:05:10.428545Z",
     "iopub.status.idle": "2023-03-01T15:05:10.435734Z",
     "shell.execute_reply": "2023-03-01T15:05:10.434451Z"
    },
    "papermill": {
     "duration": 0.021008,
     "end_time": "2023-03-01T15:05:10.438468",
     "exception": false,
     "start_time": "2023-03-01T15:05:10.417460",
     "status": "completed"
    },
    "tags": []
   },
   "outputs": [
    {
     "data": {
      "text/plain": [
       "0.42075647879537026"
      ]
     },
     "execution_count": 18,
     "metadata": {},
     "output_type": "execute_result"
    }
   ],
   "source": [
    "rms"
   ]
  },
  {
   "cell_type": "markdown",
   "id": "9b94ddac",
   "metadata": {
    "papermill": {
     "duration": 0.009029,
     "end_time": "2023-03-01T15:05:10.457127",
     "exception": false,
     "start_time": "2023-03-01T15:05:10.448098",
     "status": "completed"
    },
    "tags": []
   },
   "source": [
    "# **Test for test_data.csv**"
   ]
  },
  {
   "cell_type": "code",
   "execution_count": 19,
   "id": "84e01c91",
   "metadata": {
    "execution": {
     "iopub.execute_input": "2023-03-01T15:05:10.477841Z",
     "iopub.status.busy": "2023-03-01T15:05:10.477377Z",
     "iopub.status.idle": "2023-03-01T15:05:12.382254Z",
     "shell.execute_reply": "2023-03-01T15:05:12.381107Z"
    },
    "papermill": {
     "duration": 1.918569,
     "end_time": "2023-03-01T15:05:12.385097",
     "exception": false,
     "start_time": "2023-03-01T15:05:10.466528",
     "status": "completed"
    },
    "tags": []
   },
   "outputs": [],
   "source": [
    "test_df = pd.read_csv(\"/kaggle/input/widsdatathon2023/test_data.csv\")"
   ]
  },
  {
   "cell_type": "code",
   "execution_count": 20,
   "id": "d6c20b82",
   "metadata": {
    "execution": {
     "iopub.execute_input": "2023-03-01T15:05:12.406063Z",
     "iopub.status.busy": "2023-03-01T15:05:12.405620Z",
     "iopub.status.idle": "2023-03-01T15:05:12.570961Z",
     "shell.execute_reply": "2023-03-01T15:05:12.569360Z"
    },
    "papermill": {
     "duration": 0.179118,
     "end_time": "2023-03-01T15:05:12.573779",
     "exception": false,
     "start_time": "2023-03-01T15:05:12.394661",
     "status": "completed"
    },
    "tags": []
   },
   "outputs": [
    {
     "name": "stdout",
     "output_type": "stream",
     "text": [
      "[array(['BSh', 'BSk', 'BWh', 'BWk', 'Cfa', 'Cfb', 'Csa', 'Csb', 'Dfa',\n",
      "       'Dfb', 'Dfc', 'Dsb', 'Dsc', 'Dwa', 'Dwb'], dtype=object)]\n"
     ]
    }
   ],
   "source": [
    "preProcessed_df = preprocess(test_df)"
   ]
  },
  {
   "cell_type": "code",
   "execution_count": 21,
   "id": "72009ecf",
   "metadata": {
    "execution": {
     "iopub.execute_input": "2023-03-01T15:05:12.594918Z",
     "iopub.status.busy": "2023-03-01T15:05:12.594081Z",
     "iopub.status.idle": "2023-03-01T15:05:12.990172Z",
     "shell.execute_reply": "2023-03-01T15:05:12.989040Z"
    },
    "papermill": {
     "duration": 0.409767,
     "end_time": "2023-03-01T15:05:12.993176",
     "exception": false,
     "start_time": "2023-03-01T15:05:12.583409",
     "status": "completed"
    },
    "tags": []
   },
   "outputs": [],
   "source": [
    "Y_actual_pred = model.predict(preProcessed_df)"
   ]
  },
  {
   "cell_type": "code",
   "execution_count": 22,
   "id": "9fc47230",
   "metadata": {
    "execution": {
     "iopub.execute_input": "2023-03-01T15:05:13.016443Z",
     "iopub.status.busy": "2023-03-01T15:05:13.015624Z",
     "iopub.status.idle": "2023-03-01T15:05:13.024562Z",
     "shell.execute_reply": "2023-03-01T15:05:13.023203Z"
    },
    "papermill": {
     "duration": 0.022565,
     "end_time": "2023-03-01T15:05:13.027323",
     "exception": false,
     "start_time": "2023-03-01T15:05:13.004758",
     "status": "completed"
    },
    "tags": []
   },
   "outputs": [],
   "source": [
    "solution_df = pd.DataFrame(columns=['Index','contest-tmp2m-14d__tmp2m'])"
   ]
  },
  {
   "cell_type": "code",
   "execution_count": 23,
   "id": "876e5c4e",
   "metadata": {
    "execution": {
     "iopub.execute_input": "2023-03-01T15:05:13.047988Z",
     "iopub.status.busy": "2023-03-01T15:05:13.047490Z",
     "iopub.status.idle": "2023-03-01T15:05:13.059410Z",
     "shell.execute_reply": "2023-03-01T15:05:13.057798Z"
    },
    "papermill": {
     "duration": 0.025623,
     "end_time": "2023-03-01T15:05:13.062358",
     "exception": false,
     "start_time": "2023-03-01T15:05:13.036735",
     "status": "completed"
    },
    "tags": []
   },
   "outputs": [],
   "source": [
    "solution_df['Index']=test_df.loc[:,'index']\n",
    "solution_df['contest-tmp2m-14d__tmp2m']=Y_actual_pred"
   ]
  },
  {
   "cell_type": "code",
   "execution_count": 24,
   "id": "1ead1f7b",
   "metadata": {
    "execution": {
     "iopub.execute_input": "2023-03-01T15:05:13.084040Z",
     "iopub.status.busy": "2023-03-01T15:05:13.083616Z",
     "iopub.status.idle": "2023-03-01T15:05:13.162906Z",
     "shell.execute_reply": "2023-03-01T15:05:13.161451Z"
    },
    "papermill": {
     "duration": 0.095021,
     "end_time": "2023-03-01T15:05:13.166770",
     "exception": false,
     "start_time": "2023-03-01T15:05:13.071749",
     "status": "completed"
    },
    "tags": []
   },
   "outputs": [],
   "source": [
    "solution_df.to_csv('/kaggle/working/submission.csv',index=False)"
   ]
  },
  {
   "cell_type": "code",
   "execution_count": 25,
   "id": "c5016a39",
   "metadata": {
    "execution": {
     "iopub.execute_input": "2023-03-01T15:05:13.188934Z",
     "iopub.status.busy": "2023-03-01T15:05:13.188501Z",
     "iopub.status.idle": "2023-03-01T15:05:13.211975Z",
     "shell.execute_reply": "2023-03-01T15:05:13.210723Z"
    },
    "papermill": {
     "duration": 0.037986,
     "end_time": "2023-03-01T15:05:13.214605",
     "exception": false,
     "start_time": "2023-03-01T15:05:13.176619",
     "status": "completed"
    },
    "tags": []
   },
   "outputs": [
    {
     "data": {
      "text/html": [
       "<div>\n",
       "<style scoped>\n",
       "    .dataframe tbody tr th:only-of-type {\n",
       "        vertical-align: middle;\n",
       "    }\n",
       "\n",
       "    .dataframe tbody tr th {\n",
       "        vertical-align: top;\n",
       "    }\n",
       "\n",
       "    .dataframe thead th {\n",
       "        text-align: right;\n",
       "    }\n",
       "</style>\n",
       "<table border=\"1\" class=\"dataframe\">\n",
       "  <thead>\n",
       "    <tr style=\"text-align: right;\">\n",
       "      <th></th>\n",
       "      <th>Index</th>\n",
       "      <th>contest-tmp2m-14d__tmp2m</th>\n",
       "    </tr>\n",
       "  </thead>\n",
       "  <tbody>\n",
       "    <tr>\n",
       "      <th>0</th>\n",
       "      <td>375734</td>\n",
       "      <td>30.080233</td>\n",
       "    </tr>\n",
       "    <tr>\n",
       "      <th>1</th>\n",
       "      <td>375735</td>\n",
       "      <td>30.106647</td>\n",
       "    </tr>\n",
       "    <tr>\n",
       "      <th>2</th>\n",
       "      <td>375736</td>\n",
       "      <td>30.031658</td>\n",
       "    </tr>\n",
       "    <tr>\n",
       "      <th>3</th>\n",
       "      <td>375737</td>\n",
       "      <td>30.017403</td>\n",
       "    </tr>\n",
       "    <tr>\n",
       "      <th>4</th>\n",
       "      <td>375738</td>\n",
       "      <td>30.013895</td>\n",
       "    </tr>\n",
       "    <tr>\n",
       "      <th>...</th>\n",
       "      <td>...</td>\n",
       "      <td>...</td>\n",
       "    </tr>\n",
       "    <tr>\n",
       "      <th>31349</th>\n",
       "      <td>407083</td>\n",
       "      <td>5.702414</td>\n",
       "    </tr>\n",
       "    <tr>\n",
       "      <th>31350</th>\n",
       "      <td>407084</td>\n",
       "      <td>4.726397</td>\n",
       "    </tr>\n",
       "    <tr>\n",
       "      <th>31351</th>\n",
       "      <td>407085</td>\n",
       "      <td>3.247447</td>\n",
       "    </tr>\n",
       "    <tr>\n",
       "      <th>31352</th>\n",
       "      <td>407086</td>\n",
       "      <td>3.288362</td>\n",
       "    </tr>\n",
       "    <tr>\n",
       "      <th>31353</th>\n",
       "      <td>407087</td>\n",
       "      <td>4.520208</td>\n",
       "    </tr>\n",
       "  </tbody>\n",
       "</table>\n",
       "<p>31354 rows × 2 columns</p>\n",
       "</div>"
      ],
      "text/plain": [
       "        Index  contest-tmp2m-14d__tmp2m\n",
       "0      375734                 30.080233\n",
       "1      375735                 30.106647\n",
       "2      375736                 30.031658\n",
       "3      375737                 30.017403\n",
       "4      375738                 30.013895\n",
       "...       ...                       ...\n",
       "31349  407083                  5.702414\n",
       "31350  407084                  4.726397\n",
       "31351  407085                  3.247447\n",
       "31352  407086                  3.288362\n",
       "31353  407087                  4.520208\n",
       "\n",
       "[31354 rows x 2 columns]"
      ]
     },
     "execution_count": 25,
     "metadata": {},
     "output_type": "execute_result"
    }
   ],
   "source": [
    "pd.read_csv('/kaggle/working/submission.csv')"
   ]
  }
 ],
 "metadata": {
  "kernelspec": {
   "display_name": "Python 3",
   "language": "python",
   "name": "python3"
  },
  "language_info": {
   "codemirror_mode": {
    "name": "ipython",
    "version": 3
   },
   "file_extension": ".py",
   "mimetype": "text/x-python",
   "name": "python",
   "nbconvert_exporter": "python",
   "pygments_lexer": "ipython3",
   "version": "3.7.12"
  },
  "papermill": {
   "default_parameters": {},
   "duration": 16192.810035,
   "end_time": "2023-03-01T15:05:14.388357",
   "environment_variables": {},
   "exception": null,
   "input_path": "__notebook__.ipynb",
   "output_path": "__notebook__.ipynb",
   "parameters": {},
   "start_time": "2023-03-01T10:35:21.578322",
   "version": "2.4.0"
  }
 },
 "nbformat": 4,
 "nbformat_minor": 5
}
